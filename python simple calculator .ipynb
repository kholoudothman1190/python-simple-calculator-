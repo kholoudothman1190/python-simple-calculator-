{
 "cells": [
  {
   "cell_type": "code",
   "execution_count": null,
   "metadata": {
    "id": "iQf1bqfzBPsv"
   },
   "outputs": [],
   "source": [
    "## create a simple calculator using module that contain the following operation +,-,*,/,exp,cos,sin, square root, power 2"
   ]
  },
  {
   "cell_type": "code",
   "execution_count": 40,
   "metadata": {
    "colab": {
     "base_uri": "https://localhost:8080/"
    },
    "id": "FfyA4WrfB9Z-",
    "outputId": "34637e8f-6e01-4027-b200-d25bbc9bb6fb"
   },
   "outputs": [
    {
     "name": "stdout",
     "output_type": "stream",
     "text": [
      "Writing simple_calculater.py\n"
     ]
    }
   ],
   "source": [
    "%%writefile simple_calculater.py\n",
    "def calculater_add() :\n",
    "  a = int(input(\"please input your first num: \"))\n",
    "  b = int(input(\"please input your second num: \"))\n",
    "  return (a + b)\n",
    "def calculater_subtract() :\n",
    "  a = int(input(\"please input your first num: \"))\n",
    "  b = int(input(\"please input your second num: \"))\n",
    "  return (a - b)\n",
    "def calculater_multi() :\n",
    "  a = int(input(\"please input your first num: \"))\n",
    "  b = int(input(\"please input your second num: \"))\n",
    "  return (a * b)\n",
    "def calculater_division() :\n",
    " a = int(input(\"please input your first num: \"))\n",
    " b = int(input(\"please input your second num: \"))\n",
    " return (a / b)\n",
    "def calculater_sin() :\n",
    "  import math\n",
    "  a = int(input(\"please input your num: \"))\n",
    "  return (math.sin(math.radians(a)))\n",
    "def calculater_cos() :\n",
    "  import math\n",
    "  a = int(input(\"please input your num: \"))\n",
    "  return (math.cos(math.radians(a)))\n",
    "def calculater_power_2() :\n",
    "  a = float(input(\"Please input your num: \"))\n",
    "  return a ** 2\n",
    "def calculater_square_root() :\n",
    "  import math\n",
    "  a = float(input(\"Please input your num: \"))\n",
    "  if a >= 0:\n",
    "   return math.sqrt(a)"
   ]
  },
  {
   "cell_type": "code",
   "execution_count": 41,
   "metadata": {
    "colab": {
     "base_uri": "https://localhost:8080/"
    },
    "id": "2U5pC54PVYyO",
    "outputId": "f53f1647-dfb9-4027-c99b-22006b16700b"
   },
   "outputs": [
    {
     "data": {
      "text/plain": [
       "['__builtins__',\n",
       " '__cached__',\n",
       " '__doc__',\n",
       " '__file__',\n",
       " '__loader__',\n",
       " '__name__',\n",
       " '__package__',\n",
       " '__spec__',\n",
       " 'calculater_add',\n",
       " 'calculater_cos',\n",
       " 'calculater_division',\n",
       " 'calculater_multi',\n",
       " 'calculater_power_2',\n",
       " 'calculater_sin',\n",
       " 'calculater_square_root',\n",
       " 'calculater_subtract']"
      ]
     },
     "execution_count": 41,
     "metadata": {},
     "output_type": "execute_result"
    }
   ],
   "source": [
    "import simple_calculater\n",
    "dir(simple_calculater)"
   ]
  },
  {
   "cell_type": "code",
   "execution_count": 42,
   "metadata": {
    "colab": {
     "base_uri": "https://localhost:8080/"
    },
    "id": "0IJkWaeEVhtd",
    "outputId": "3e59b4bf-ae82-4452-e588-3f8dff944cef"
   },
   "outputs": [
    {
     "name": "stdout",
     "output_type": "stream",
     "text": [
      "Please input your num: 4\n"
     ]
    },
    {
     "data": {
      "text/plain": [
       "16.0"
      ]
     },
     "execution_count": 42,
     "metadata": {},
     "output_type": "execute_result"
    }
   ],
   "source": [
    "simple_calculater.calculater_power_2()"
   ]
  },
  {
   "cell_type": "code",
   "execution_count": 43,
   "metadata": {
    "colab": {
     "base_uri": "https://localhost:8080/"
    },
    "id": "aZrz23EiVndM",
    "outputId": "b1c0d5e4-4e66-4c7f-f76f-319c8875fabf"
   },
   "outputs": [
    {
     "name": "stdout",
     "output_type": "stream",
     "text": [
      "Please input your num: 100\n"
     ]
    },
    {
     "data": {
      "text/plain": [
       "10.0"
      ]
     },
     "execution_count": 43,
     "metadata": {},
     "output_type": "execute_result"
    }
   ],
   "source": [
    "simple_calculater.calculater_square_root()"
   ]
  },
  {
   "cell_type": "code",
   "execution_count": 44,
   "metadata": {
    "colab": {
     "base_uri": "https://localhost:8080/"
    },
    "id": "3nmX_7X3Vts9",
    "outputId": "71b09fc3-7d15-4646-b9f1-402f0a7b75e6"
   },
   "outputs": [
    {
     "name": "stdout",
     "output_type": "stream",
     "text": [
      "please input your first num: 4\n",
      "please input your second num: 30\n"
     ]
    },
    {
     "data": {
      "text/plain": [
       "120"
      ]
     },
     "execution_count": 44,
     "metadata": {},
     "output_type": "execute_result"
    }
   ],
   "source": [
    "simple_calculater.calculater_multi()"
   ]
  },
  {
   "cell_type": "code",
   "execution_count": 45,
   "metadata": {
    "colab": {
     "base_uri": "https://localhost:8080/"
    },
    "id": "Zt1TDJHlVzhe",
    "outputId": "30d3a74e-256c-4292-e4a7-36a844938f2f"
   },
   "outputs": [
    {
     "name": "stdout",
     "output_type": "stream",
     "text": [
      "please input your num: 77\n"
     ]
    },
    {
     "data": {
      "text/plain": [
       "0.9743700647852352"
      ]
     },
     "execution_count": 45,
     "metadata": {},
     "output_type": "execute_result"
    }
   ],
   "source": [
    "simple_calculater.calculater_sin()"
   ]
  },
  {
   "cell_type": "code",
   "execution_count": 46,
   "metadata": {
    "colab": {
     "base_uri": "https://localhost:8080/"
    },
    "id": "rH1CSMl-V9M8",
    "outputId": "3908614a-dc38-4767-ff52-ed64440edaba"
   },
   "outputs": [
    {
     "name": "stdout",
     "output_type": "stream",
     "text": [
      "please input your first num: 6\n",
      "please input your second num: 50\n"
     ]
    },
    {
     "data": {
      "text/plain": [
       "56"
      ]
     },
     "execution_count": 46,
     "metadata": {},
     "output_type": "execute_result"
    }
   ],
   "source": [
    "simple_calculater.calculater_add()"
   ]
  }
 ],
 "metadata": {
  "colab": {
   "provenance": []
  },
  "kernelspec": {
   "display_name": "Python 3",
   "language": "python",
   "name": "python3"
  },
  "language_info": {
   "codemirror_mode": {
    "name": "ipython",
    "version": 3
   },
   "file_extension": ".py",
   "mimetype": "text/x-python",
   "name": "python",
   "nbconvert_exporter": "python",
   "pygments_lexer": "ipython3",
   "version": "3.7.6"
  }
 },
 "nbformat": 4,
 "nbformat_minor": 1
}
